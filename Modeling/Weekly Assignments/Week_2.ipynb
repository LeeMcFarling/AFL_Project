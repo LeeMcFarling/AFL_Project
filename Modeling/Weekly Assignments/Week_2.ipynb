{
 "cells": [
  {
   "cell_type": "markdown",
   "id": "eec67006",
   "metadata": {},
   "source": [
    "# **Week 2**\n",
    "\n",
    "Lasso, Ridge, and Elastic Regression"
   ]
  },
  {
   "cell_type": "markdown",
   "id": "16a2bec8",
   "metadata": {},
   "source": []
  }
 ],
 "metadata": {
  "language_info": {
   "name": "python"
  }
 },
 "nbformat": 4,
 "nbformat_minor": 5
}
